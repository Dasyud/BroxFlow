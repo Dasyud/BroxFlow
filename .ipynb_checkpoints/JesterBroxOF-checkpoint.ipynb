{
 "cells": [
  {
   "cell_type": "code",
   "execution_count": 1,
   "metadata": {
    "id": "RWNNHfgTUpC5"
   },
   "outputs": [],
   "source": [
    "import pandas as pd"
   ]
  },
  {
   "cell_type": "code",
   "execution_count": 2,
   "metadata": {
    "id": "Tp9Di_UhkILS"
   },
   "outputs": [],
   "source": [
    "df_train = pd.read_csv('C:/Users/Aditya/Downloads/JESTER DATASET/jester-v1-train.csv', delimiter=';', header=None)\n",
    "df_test = pd.read_csv('C:/Users/Aditya/Downloads/JESTER DATASET/jester-v1-test.csv', delimiter=';', header=None)\n",
    "df_val = pd.read_csv('C:/Users/Aditya/Downloads/JESTER DATASET/jester-v1-validation.csv', delimiter=';', header=None)\n",
    "df_labels = pd.read_csv('C:/Users/Aditya/Downloads/JESTER DATASET/jester-v1-labels.csv', delimiter=';', header=None)"
   ]
  },
  {
   "cell_type": "code",
   "execution_count": 3,
   "metadata": {
    "colab": {
     "base_uri": "https://localhost:8080/"
    },
    "id": "s2x5AC_r96vT",
    "outputId": "7458a84a-fd2a-421d-dd5e-6c7d95c33676"
   },
   "outputs": [
    {
     "data": {
      "text/plain": [
       "{'Stop Sign', 'Swiping Down', 'Swiping Left', 'Swiping Right', 'Swiping Up'}"
      ]
     },
     "execution_count": 3,
     "metadata": {},
     "output_type": "execute_result"
    }
   ],
   "source": [
    "#print(df_train.head())\n",
    "#print(df_test.head())\n",
    "#print(df_val.head())\n",
    "#print(df_labels.head())\n",
    "selected_gestures = set(['Swiping Left', 'Swiping Right', 'Swiping Down', 'Swiping Up', 'Stop Sign'])\n",
    "selected_gestures"
   ]
  },
  {
   "cell_type": "code",
   "execution_count": 4,
   "metadata": {
    "id": "MmY5yQeh98TM"
   },
   "outputs": [],
   "source": [
    "train_csv = df_train.to_dict(orient='split')['data']\n",
    "train = {selected_label : [] for selected_label in selected_gestures}\n",
    "for data in train_csv:\n",
    "    if data[1] in selected_gestures:\n",
    "        train[data[1]].append(data[0])"
   ]
  },
  {
   "cell_type": "code",
   "execution_count": 5,
   "metadata": {
    "colab": {
     "base_uri": "https://localhost:8080/"
    },
    "id": "xIOwmg6WAhBU",
    "outputId": "25686581-9309-4b85-9c29-f1254e60517b"
   },
   "outputs": [
    {
     "name": "stdout",
     "output_type": "stream",
     "text": [
      "4259\n",
      "[6522, 118250, 53863, 117892, 40836]\n",
      "4220\n",
      "[85923, 111296, 18056, 46260, 87642]\n",
      "4162\n",
      "[62818, 10179, 104639, 105791, 38482]\n",
      "4084\n",
      "[68574, 1338, 78394, 52906, 111679]\n",
      "4337\n",
      "[60572, 14506, 37219, 49506, 63541]\n"
     ]
    }
   ],
   "source": [
    "for key in train.keys():\n",
    "    print(len(train[key]))\n",
    "    print(train[key][0:5])"
   ]
  },
  {
   "cell_type": "code",
   "execution_count": 6,
   "metadata": {
    "id": "UrX7YUsuBJlj"
   },
   "outputs": [],
   "source": [
    "validation_csv = df_val.to_dict(orient='split')['data']\n",
    "val = {selected_label : [] for selected_label in selected_gestures}\n",
    "for data in validation_csv:\n",
    "    if data[1] in selected_gestures:\n",
    "        val[data[1]].append(data[0])"
   ]
  },
  {
   "cell_type": "code",
   "execution_count": 7,
   "metadata": {
    "colab": {
     "base_uri": "https://localhost:8080/"
    },
    "id": "Z7C4iRliCx9k",
    "outputId": "90d1b663-a223-4e61-9bcf-aecd75643065"
   },
   "outputs": [
    {
     "name": "stdout",
     "output_type": "stream",
     "text": [
      "520\n",
      "[54598, 37527, 1440, 45990, 124080]\n",
      "508\n",
      "[99317, 89648, 133366, 9191, 121678]\n",
      "494\n",
      "[42920, 117498, 17330, 125044, 17333]\n",
      "486\n",
      "[94928, 52721, 68879, 84457, 87413]\n",
      "536\n",
      "[6202, 37485, 14887, 122556, 26695]\n"
     ]
    }
   ],
   "source": [
    "for key in val.keys():\n",
    "    print(len(val[key]))\n",
    "    print(val[key][0:5])"
   ]
  },
  {
   "cell_type": "code",
   "execution_count": null,
   "metadata": {
    "id": "B7Zdy2_IDH-0"
   },
   "outputs": [],
   "source": [
    "for ind in range(len(train['Swiping Up'])):\n",
    "    n = train['Stop Sign'][ind]\n",
    "    print(n)"
   ]
  },
  {
   "cell_type": "code",
   "execution_count": 2,
   "metadata": {},
   "outputs": [
    {
     "name": "stdout",
     "output_type": "stream",
     "text": [
      "Mon Apr 26 01:12:50 2021       \n",
      "+-----------------------------------------------------------------------------+\n",
      "| NVIDIA-SMI 466.11       Driver Version: 466.11       CUDA Version: 11.3     |\n",
      "|-------------------------------+----------------------+----------------------+\n",
      "| GPU  Name            TCC/WDDM | Bus-Id        Disp.A | Volatile Uncorr. ECC |\n",
      "| Fan  Temp  Perf  Pwr:Usage/Cap|         Memory-Usage | GPU-Util  Compute M. |\n",
      "|                               |                      |               MIG M. |\n",
      "|===============================+======================+======================|\n",
      "|   0  NVIDIA GeForce ... WDDM  | 00000000:01:00.0 Off |                  N/A |\n",
      "| N/A   51C    P8     3W /  N/A |    134MiB /  4096MiB |      0%      Default |\n",
      "|                               |                      |                  N/A |\n",
      "+-------------------------------+----------------------+----------------------+\n",
      "                                                                               \n",
      "+-----------------------------------------------------------------------------+\n",
      "| Processes:                                                                  |\n",
      "|  GPU   GI   CI        PID   Type   Process name                  GPU Memory |\n",
      "|        ID   ID                                                   Usage      |\n",
      "|=============================================================================|\n",
      "|  No running processes found                                                 |\n",
      "+-----------------------------------------------------------------------------+\n"
     ]
    }
   ],
   "source": [
    "!nvidia-smi"
   ]
  },
  {
   "cell_type": "code",
   "execution_count": null,
   "metadata": {},
   "outputs": [],
   "source": [
    "#making separate folders instead of concatenating\n",
    "#trying MFFs\n",
    "\n",
    "#method - count number of frames in folder\n",
    "#skip first 4 frames, then divide remaining frames by 8. call the quotient n\n",
    "#every nth frame after leaving the first 4 frames has to be the rgb for the segment\n",
    "#store OFs of past 3 frames at any given time in 3 arrays\n",
    "#write the image as .TIFF or .npy\n",
    "#profit?\n",
    "\n",
    "import cv2\n",
    "import numpy as np\n",
    "import pandas as pd\n",
    "import os\n",
    "from tifffile import imread, imwrite\n",
    "from PIL import Image\n",
    "import imageio\n",
    "\n",
    "\n",
    "os.makedirs(\"C:/Users/Aditya/Documents/RSIP PROJECT RESEARCH/opencv cap/output/trainRight/rgb\", exist_ok = True)\n",
    "os.makedirs(\"C:/Users/Aditya/Documents/RSIP PROJECT RESEARCH/opencv cap/trainRight/flow/u\", exist_ok = True)\n",
    "os.makedirs(\"C:/Users/Aditya/Documents/RSIP PROJECT RESEARCH/opencv cap/trainRight/flow/v\", exist_ok = True)\n",
    "\n",
    "#insert loop here later and iterate through indices\n",
    "\n",
    "for ind in range(10):\n",
    "\n",
    "    vidPath = f'C:/Users/Aditya/Documents/RSIP PROJECT RESEARCH/opencv cap/swipe right/train/{ind+1}/%1d.jpg'\n",
    "    folder = f'C:/Users/Aditya/Documents/RSIP PROJECT RESEARCH/opencv cap/swipe right/train/{ind+1}/'\n",
    "\n",
    "    os.makedirs(f\"C:/Users/Aditya/Documents/RSIP PROJECT RESEARCH/opencv cap/output/trainRight/rgb/{ind+1}\", exist_ok = True)\n",
    "    os.makedirs(f\"C:/Users/Aditya/Documents/RSIP PROJECT RESEARCH/opencv cap/output/trainRight/flow/u/{ind+1}\", exist_ok = True)\n",
    "    os.makedirs(f\"C:/Users/Aditya/Documents/RSIP PROJECT RESEARCH/opencv cap/output/trainRight/flow/v/{ind+1}\", exist_ok = True)\n",
    "\n",
    "    #interval between rgb frames\n",
    "    n = len(os.listdir(folder))\n",
    "    n = n - 5\n",
    "    n = n // 7\n",
    "    #print(index, \" \", n)\n",
    "\n",
    "    cap = cv2.VideoCapture(vidPath) #give 0 for webcam data\n",
    "\n",
    "    brox_of = cv2.cuda_BroxOpticalFlow.create(0.197, 50.0, 0.8, 10, 77, 10)\n",
    "    #(alpha ,gamma ,scale ,inner_iterations ,outer_iterations ,solver_iterations)\n",
    "\n",
    "    #creating GPUMATS\n",
    "    gpu_prev = cv2.cuda_GpuMat()\n",
    "    gpu_frame = cv2.cuda_GpuMat()\n",
    "\n",
    "    #taking first frame\n",
    "    ret, frame = cap.read()\n",
    "    frame5 = frame.copy()\n",
    "    \n",
    "    frame = np.float32(frame)/255.0\n",
    "    gpu_prev.upload(frame)\n",
    "    gpu_prev = cv2.cuda.cvtColor(gpu_prev, cv2.COLOR_BGR2GRAY)\n",
    " \n",
    "\n",
    "    d = 1 #frame counter to check if 4 frame point has been crossed\n",
    "    s = 0 #segment frame counter\n",
    "    k = 1 #segment counter\n",
    "    num = 0\n",
    "\n",
    "    #loop frames\n",
    "    while(1):\n",
    "        ret, frame = cap.read()\n",
    "\n",
    "        if not ret:\n",
    "            cap.release()\n",
    "            break\n",
    "\n",
    "        #brox optical flow opencv cuda\n",
    "        frame = np.float32(frame)/255.0\n",
    "\n",
    "        gpu_frame.upload(frame)\n",
    "\n",
    "        #had to add this because of some bug in library\n",
    "        if(gpu_prev.type() != 5):\n",
    "            gpu_prev = cv2.cuda.cvtColor(gpu_prev, cv2.COLOR_BGR2GRAY)\n",
    "\n",
    "        #change rgb to b/w\n",
    "        gpu_frame = cv2.cuda.cvtColor(gpu_frame, cv2.COLOR_BGR2GRAY)\n",
    "\n",
    "        #FLOW COMPUTATION\n",
    "        gpu_flow = brox_of.calc(gpu_prev, gpu_frame, None) #2 vectors\n",
    "\n",
    "        #splitting flow into 2\n",
    "        gpu_flow_x = cv2.cuda_GpuMat(gpu_flow.size(), cv2.CV_32FC1)\n",
    "        gpu_flow_y = cv2.cuda_GpuMat(gpu_flow.size(), cv2.CV_32FC1)\n",
    "        cv2.cuda.split(gpu_flow, [gpu_flow_x, gpu_flow_y], cv2.cuda.Stream_Null())\n",
    "\n",
    "        x = gpu_flow_x.download()\n",
    "        y = gpu_flow_y.download()\n",
    "\n",
    "        xclip = np.clip(x, 0, x.max())\n",
    "        yclip = np.clip(y, 0, y.max())\n",
    "\n",
    "        xnorm = cv2.cuda.normalize(xclip, 0, 255.0, cv2.NORM_MINMAX, -1)\n",
    "        ynorm = cv2.cuda.normalize(yclip, 0, 255.0, cv2.NORM_MINMAX, -1)\n",
    "\n",
    "\n",
    "        if(d==4 or s==n):        \n",
    "            rgbPath = f\"C:/Users/Aditya/Documents/RSIP PROJECT RESEARCH/opencv cap/output/trainRight/rgb/{ind+1}/{k}.jpg\"\n",
    "            \n",
    "            num += 1\n",
    "            flowUPath = f\"C:/Users/Aditya/Documents/RSIP PROJECT RESEARCH/opencv cap/output/trainRight/flow/u/{ind+1}/{k}_{num}.jpg\"\n",
    "            flowVPath = f\"C:/Users/Aditya/Documents/RSIP PROJECT RESEARCH/opencv cap/output/trainRight/flow/v/{ind+1}/{k}_{num}.jpg\"\n",
    "\n",
    "            rgb = frame.copy() * 255.0\n",
    "            cv2.imwrite(rgbPath, rgb)\n",
    "\n",
    "            cv2.imwrite(flowUPath, ofx1)\n",
    "            cv2.imwrite(flowVPath, ofy1)\n",
    "\n",
    "            num+=1\n",
    "            flowUPath = f\"C:/Users/Aditya/Documents/RSIP PROJECT RESEARCH/opencv cap/output/trainRight/flow/u/{ind+1}/{k}_{num}.jpg\"\n",
    "            flowVPath = f\"C:/Users/Aditya/Documents/RSIP PROJECT RESEARCH/opencv cap/output/trainRight/flow/v/{ind+1}/{k}_{num}.jpg\"\n",
    "\n",
    "            cv2.imwrite(flowUPath, ofx2)\n",
    "            cv2.imwrite(flowVPath, ofy2)\n",
    "\n",
    "            num+=1\n",
    "            flowUPath = f\"C:/Users/Aditya/Documents/RSIP PROJECT RESEARCH/opencv cap/output/trainRight/flow/u/{ind+1}/{k}_{num}.jpg\"\n",
    "            flowVPath = f\"C:/Users/Aditya/Documents/RSIP PROJECT RESEARCH/opencv cap/output/trainRight/flow/v/{ind+1}/{k}_{num}.jpg\"\n",
    "\n",
    "            cv2.imwrite(flowUPath, ofx3)\n",
    "            cv2.imwrite(flowVPath, ofy3)\n",
    "\n",
    "            num = 0\n",
    "            k += 1\n",
    "            s = 0\n",
    "\n",
    "        if k == 9:\n",
    "            break\n",
    "\n",
    "        if d>2:\n",
    "            ofx1 = ofx2.copy()\n",
    "            ofy1 = ofy2.copy()\n",
    "        if d>1:\n",
    "            ofx2 = ofx3.copy()\n",
    "            ofy2 = ofy3.copy()\n",
    "        ofx3 = xnorm.copy()\n",
    "        ofy3 = ynorm.copy()\n",
    "\n",
    "        d += 1\n",
    "        if (d>4):\n",
    "            s += 1  \n",
    "        gpu_prev.upload(frame)"
   ]
  }
 ],
 "metadata": {
  "kernelspec": {
   "display_name": "Python 3 Sys",
   "language": "python",
   "name": "python3_system"
  },
  "language_info": {
   "codemirror_mode": {
    "name": "ipython",
    "version": 3
   },
   "file_extension": ".py",
   "mimetype": "text/x-python",
   "name": "python",
   "nbconvert_exporter": "python",
   "pygments_lexer": "ipython3",
   "version": "3.8.5"
  }
 },
 "nbformat": 4,
 "nbformat_minor": 4
}
